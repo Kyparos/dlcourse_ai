{
 "cells": [
  {
   "cell_type": "markdown",
   "metadata": {
    "pycharm": {
     "name": "#%% md\n"
    }
   },
   "source": [
    "# Задание 2.1 - Нейронные сети\n",
    "\n",
    "В этом задании вы реализуете и натренируете настоящую нейроную сеть своими руками!\n",
    "\n",
    "В некотором смысле это будет расширением прошлого задания - нам нужно просто составить несколько линейных классификаторов вместе!\n",
    "\n",
    "<img src=\"https://i.redd.it/n9fgba8b0qr01.png\" alt=\"Stack_more_layers\" width=\"400px\"/>"
   ]
  },
  {
   "cell_type": "code",
   "execution_count": 61,
   "metadata": {
    "pycharm": {
     "name": "#%%\n"
    }
   },
   "outputs": [
    {
     "name": "stdout",
     "output_type": "stream",
     "text": [
      "The autoreload extension is already loaded. To reload it, use:\n",
      "  %reload_ext autoreload\n"
     ]
    }
   ],
   "source": [
    "import numpy as np\n",
    "import matplotlib.pyplot as plt\n",
    "\n",
    "%matplotlib inline\n",
    "\n",
    "%load_ext autoreload\n",
    "%autoreload 2"
   ]
  },
  {
   "cell_type": "code",
   "execution_count": 134,
   "metadata": {
    "pycharm": {
     "name": "#%%\n"
    }
   },
   "outputs": [],
   "source": [
    "from dataset import load_svhn, random_split_train_val\n",
    "from gradient_check import check_layer_gradient, check_layer_param_gradient, check_model_gradient\n",
    "from layers import FullyConnectedLayer, ReLULayer\n",
    "from model import TwoLayerNet\n",
    "from trainer import Trainer, Dataset\n",
    "from optim import SGD, MomentumSGD\n",
    "from metrics import multiclass_accuracy\n",
    "from itertools import product"
   ]
  },
  {
   "cell_type": "markdown",
   "metadata": {
    "pycharm": {
     "name": "#%% md\n"
    }
   },
   "source": [
    "# Загружаем данные\n",
    "\n",
    "И разделяем их на training и validation."
   ]
  },
  {
   "cell_type": "code",
   "execution_count": 63,
   "metadata": {
    "pycharm": {
     "name": "#%%\n"
    }
   },
   "outputs": [
    {
     "name": "stderr",
     "output_type": "stream",
     "text": [
      "/var/folders/8x/sy02cz7j5z3310hqp4hcxkgh0000gn/T/ipykernel_25275/2457508043.py:2: DeprecationWarning: `np.float` is a deprecated alias for the builtin `float`. To silence this warning, use `float` by itself. Doing this will not modify any behavior and is safe. If you specifically wanted the numpy scalar type, use `np.float64` here.\n",
      "Deprecated in NumPy 1.20; for more details and guidance: https://numpy.org/devdocs/release/1.20.0-notes.html#deprecations\n",
      "  train_flat = train_X.reshape(train_X.shape[0], -1).astype(np.float) / 255.0\n",
      "/var/folders/8x/sy02cz7j5z3310hqp4hcxkgh0000gn/T/ipykernel_25275/2457508043.py:3: DeprecationWarning: `np.float` is a deprecated alias for the builtin `float`. To silence this warning, use `float` by itself. Doing this will not modify any behavior and is safe. If you specifically wanted the numpy scalar type, use `np.float64` here.\n",
      "Deprecated in NumPy 1.20; for more details and guidance: https://numpy.org/devdocs/release/1.20.0-notes.html#deprecations\n",
      "  test_flat = test_X.reshape(test_X.shape[0], -1).astype(np.float) / 255.0\n"
     ]
    }
   ],
   "source": [
    "def prepare_for_neural_network(train_X, test_X):\n",
    "    train_flat = train_X.reshape(train_X.shape[0], -1).astype(np.float) / 255.0\n",
    "    test_flat = test_X.reshape(test_X.shape[0], -1).astype(np.float) / 255.0\n",
    "    \n",
    "    # Subtract mean\n",
    "    mean_image = np.mean(train_flat, axis = 0)\n",
    "    train_flat -= mean_image\n",
    "    test_flat -= mean_image\n",
    "    \n",
    "    return train_flat, test_flat\n",
    "    \n",
    "train_X, train_y, test_X, test_y = load_svhn(\"../data\", max_train=10000, max_test=1000)\n",
    "train_X, test_X = prepare_for_neural_network(train_X, test_X)\n",
    "# Split train into train and val\n",
    "train_X, train_y, val_X, val_y = random_split_train_val(train_X, train_y, num_val = 1000)"
   ]
  },
  {
   "cell_type": "markdown",
   "metadata": {
    "pycharm": {
     "name": "#%% md\n"
    }
   },
   "source": [
    "# Как всегда, начинаем с кирпичиков\n",
    "\n",
    "Мы будем реализовывать необходимые нам слои по очереди. Каждый слой должен реализовать:\n",
    "- прямой проход (forward pass), который генерирует выход слоя по входу и запоминает необходимые данные\n",
    "- обратный проход (backward pass), который получает градиент по выходу слоя и вычисляет градиент по входу и по параметрам\n",
    "\n",
    "Начнем с ReLU, у которого параметров нет."
   ]
  },
  {
   "cell_type": "code",
   "execution_count": 64,
   "metadata": {
    "scrolled": false,
    "pycharm": {
     "name": "#%%\n"
    }
   },
   "outputs": [
    {
     "name": "stdout",
     "output_type": "stream",
     "text": [
      "Gradient check passed!\n"
     ]
    }
   ],
   "source": [
    "\n",
    "# Note: you'll need to copy implementation of the gradient_check function from the previous assignment\n",
    "\n",
    "X = np.array([[1,-2,3],\n",
    "              [-1, 2, 0.1]\n",
    "              ])\n",
    "\n",
    "assert check_layer_gradient(ReLULayer(), X)"
   ]
  },
  {
   "cell_type": "markdown",
   "metadata": {
    "pycharm": {
     "name": "#%% md\n"
    }
   },
   "source": [
    "А теперь реализуем полносвязный слой (fully connected layer), у которого будет два массива параметров: W (weights) и B (bias).\n",
    "\n",
    "Все параметры наши слои будут использовать для параметров специальный класс `Param`, в котором будут храниться значения параметров и градиенты этих параметров, вычисляемые во время обратного прохода.\n",
    "\n",
    "Это даст возможность аккумулировать (суммировать) градиенты из разных частей функции потерь, например, из cross-entropy loss и regularization loss."
   ]
  },
  {
   "cell_type": "code",
   "execution_count": 65,
   "metadata": {
    "pycharm": {
     "name": "#%%\n"
    }
   },
   "outputs": [
    {
     "name": "stdout",
     "output_type": "stream",
     "text": [
      "Gradient check passed!\n",
      "Gradient check passed!\n",
      "Gradient check passed!\n"
     ]
    }
   ],
   "source": [
    "# TODO: Implement FullyConnected layer forward and backward methods\n",
    "assert check_layer_gradient(FullyConnectedLayer(3, 4), X)\n",
    "# TODO: Implement storing gradients for W and B\n",
    "assert check_layer_param_gradient(FullyConnectedLayer(3, 4), X, 'W')\n",
    "assert check_layer_param_gradient(FullyConnectedLayer(3, 4), X, 'B')"
   ]
  },
  {
   "cell_type": "markdown",
   "metadata": {
    "pycharm": {
     "name": "#%% md\n"
    }
   },
   "source": [
    "## Создаем нейронную сеть\n",
    "\n",
    "Теперь мы реализуем простейшую нейронную сеть с двумя полносвязным слоями и нелинейностью ReLU. Реализуйте функцию `compute_loss_and_gradients`, она должна запустить прямой и обратный проход через оба слоя для вычисления градиентов.\n",
    "\n",
    "Не забудьте реализовать очистку градиентов в начале функции."
   ]
  },
  {
   "cell_type": "code",
   "execution_count": 66,
   "metadata": {
    "pycharm": {
     "name": "#%%\n"
    }
   },
   "outputs": [
    {
     "name": "stdout",
     "output_type": "stream",
     "text": [
      "Checking gradient for (0, 'W')\n",
      "Gradient check passed!\n",
      "Checking gradient for (0, 'B')\n",
      "Gradient check passed!\n",
      "Checking gradient for (2, 'W')\n",
      "Gradient check passed!\n",
      "Checking gradient for (2, 'B')\n",
      "Gradient check passed!\n"
     ]
    },
    {
     "data": {
      "text/plain": "True"
     },
     "execution_count": 66,
     "metadata": {},
     "output_type": "execute_result"
    }
   ],
   "source": [
    "# TODO: In model.py, implement compute_loss_and_gradients function\n",
    "model = TwoLayerNet(n_input = train_X.shape[1], n_output = 10, hidden_layer_size = 3, reg = 0)\n",
    "loss = model.compute_loss_and_gradients(train_X[:2], train_y[:2])\n",
    "\n",
    "# TODO Now implement backward pass and aggregate all of the params\n",
    "check_model_gradient(model, train_X[:2], train_y[:2])"
   ]
  },
  {
   "cell_type": "markdown",
   "metadata": {
    "pycharm": {
     "name": "#%% md\n"
    }
   },
   "source": [
    "Теперь добавьте к модели регуляризацию - она должна прибавляться к loss и делать свой вклад в градиенты."
   ]
  },
  {
   "cell_type": "code",
   "execution_count": 82,
   "metadata": {
    "pycharm": {
     "name": "#%%\n"
    }
   },
   "outputs": [
    {
     "name": "stdout",
     "output_type": "stream",
     "text": [
      "Checking gradient for (0, 'W')\n",
      "Gradient check passed!\n",
      "Checking gradient for (0, 'B')\n",
      "Gradient check passed!\n",
      "Checking gradient for (2, 'W')\n",
      "Gradient check passed!\n",
      "Checking gradient for (2, 'B')\n",
      "Gradient check passed!\n"
     ]
    },
    {
     "data": {
      "text/plain": "True"
     },
     "execution_count": 82,
     "metadata": {},
     "output_type": "execute_result"
    }
   ],
   "source": [
    "# TODO Now implement l2 regularization in the forward and backward pass\n",
    "model_with_reg = TwoLayerNet(n_input = train_X.shape[1], n_output = 10, hidden_layer_size = 3, reg = 1e1)\n",
    "loss_with_reg = model_with_reg.compute_loss_and_gradients(train_X[:2], train_y[:2])\n",
    "assert loss_with_reg > loss and not np.isclose(loss_with_reg, loss), \\\n",
    "    \"Loss with regularization (%2.4f) should be higher than without it (%2.4f)!\" % (loss, loss_with_reg)\n",
    "\n",
    "check_model_gradient(model_with_reg, train_X[:2], train_y[:2])"
   ]
  },
  {
   "cell_type": "markdown",
   "metadata": {
    "pycharm": {
     "name": "#%% md\n"
    }
   },
   "source": [
    "Также реализуем функцию предсказания (вычисления значения) модели на новых данных.\n",
    "\n",
    "Какое значение точности мы ожидаем увидеть до начала тренировки?"
   ]
  },
  {
   "cell_type": "code",
   "execution_count": 83,
   "metadata": {
    "pycharm": {
     "name": "#%%\n"
    }
   },
   "outputs": [
    {
     "data": {
      "text/plain": "0.0"
     },
     "execution_count": 83,
     "metadata": {},
     "output_type": "execute_result"
    }
   ],
   "source": [
    "# Finally, implement predict function!\n",
    "\n",
    "# TODO: Implement predict function\n",
    "# What would be the value we expect?\n",
    "multiclass_accuracy(model_with_reg.predict(train_X[:30]), train_y[:30]) "
   ]
  },
  {
   "cell_type": "markdown",
   "metadata": {
    "pycharm": {
     "name": "#%% md\n"
    }
   },
   "source": [
    "# Допишем код для процесса тренировки\n",
    "\n",
    "Если все реализовано корректно, значение функции ошибки должно уменьшаться с каждой эпохой, пусть и медленно. Не беспокойтесь пока про validation accuracy."
   ]
  },
  {
   "cell_type": "code",
   "execution_count": 101,
   "metadata": {
    "pycharm": {
     "name": "#%%\n"
    }
   },
   "outputs": [
    {
     "name": "stdout",
     "output_type": "stream",
     "text": [
      "Loss: 2.160388, Train accuracy: 0.251333, val accuracy: 0.276000\n",
      "Loss: 1.892793, Train accuracy: 0.318222, val accuracy: 0.323000\n",
      "Loss: 2.332145, Train accuracy: 0.362000, val accuracy: 0.376000\n",
      "Loss: 2.367889, Train accuracy: 0.294222, val accuracy: 0.289000\n",
      "Loss: 2.291995, Train accuracy: 0.285111, val accuracy: 0.322000\n",
      "Loss: 2.196818, Train accuracy: 0.352556, val accuracy: 0.360000\n",
      "Loss: 2.371195, Train accuracy: 0.307667, val accuracy: 0.325000\n",
      "Loss: 2.300665, Train accuracy: 0.360111, val accuracy: 0.370000\n",
      "Loss: 1.802364, Train accuracy: 0.336000, val accuracy: 0.342000\n",
      "Loss: 2.135540, Train accuracy: 0.299556, val accuracy: 0.329000\n",
      "Loss: 2.194567, Train accuracy: 0.289111, val accuracy: 0.299000\n",
      "Loss: 2.018287, Train accuracy: 0.285667, val accuracy: 0.280000\n",
      "Loss: 2.468541, Train accuracy: 0.189556, val accuracy: 0.200000\n",
      "Loss: 2.412121, Train accuracy: 0.266556, val accuracy: 0.283000\n",
      "Loss: 2.496081, Train accuracy: 0.293778, val accuracy: 0.281000\n",
      "Loss: 2.350409, Train accuracy: 0.269667, val accuracy: 0.274000\n",
      "Loss: 2.254568, Train accuracy: 0.270778, val accuracy: 0.260000\n",
      "Loss: 2.115417, Train accuracy: 0.292111, val accuracy: 0.290000\n",
      "Loss: 2.569574, Train accuracy: 0.216889, val accuracy: 0.231000\n",
      "Loss: 2.325752, Train accuracy: 0.245889, val accuracy: 0.264000\n"
     ]
    }
   ],
   "source": [
    "model = TwoLayerNet(n_input = train_X.shape[1], n_output = 10, hidden_layer_size = 100, reg = 1e-2)\n",
    "dataset = Dataset(train_X, train_y, val_X, val_y)\n",
    "trainer = Trainer(model, dataset, SGD(), learning_rate = 5e-1)\n",
    "\n",
    "# TODO Implement missing pieces in Trainer.fit function\n",
    "# You should expect loss to go down every epoch, even if it's slow\n",
    "loss_history, train_history, val_history = trainer.fit()"
   ]
  },
  {
   "cell_type": "code",
   "execution_count": 102,
   "metadata": {
    "pycharm": {
     "name": "#%%\n"
    }
   },
   "outputs": [
    {
     "data": {
      "text/plain": "[<matplotlib.lines.Line2D at 0x7fdf71c3c790>]"
     },
     "execution_count": 102,
     "metadata": {},
     "output_type": "execute_result"
    },
    {
     "data": {
      "text/plain": "<Figure size 432x288 with 1 Axes>",
      "image/png": "[encoded data removed]"
     },
     "metadata": {
      "needs_background": "light"
     },
     "output_type": "display_data"
    }
   ],
   "source": [
    "plt.plot(train_history)\n",
    "plt.plot(val_history)"
   ]
  },
  {
   "cell_type": "markdown",
   "metadata": {
    "pycharm": {
     "name": "#%% md\n"
    }
   },
   "source": [
    "# Улучшаем процесс тренировки\n",
    "\n",
    "Мы реализуем несколько ключевых оптимизаций, необходимых для тренировки современных нейросетей."
   ]
  },
  {
   "cell_type": "markdown",
   "metadata": {
    "pycharm": {
     "name": "#%% md\n"
    }
   },
   "source": [
    "## Уменьшение скорости обучения (learning rate decay)\n",
    "\n",
    "Одна из необходимых оптимизаций во время тренировки нейронных сетей - постепенное уменьшение скорости обучения по мере тренировки.\n",
    "\n",
    "Один из стандартных методов - уменьшение скорости обучения (learning rate) каждые N эпох на коэффициент d (часто называемый decay). Значения N и d, как всегда, являются гиперпараметрами и должны подбираться на основе эффективности на проверочных данных (validation data). \n",
    "\n",
    "В нашем случае N будет равным 1."
   ]
  },
  {
   "cell_type": "code",
   "execution_count": 111,
   "metadata": {
    "pycharm": {
     "name": "#%%\n"
    }
   },
   "outputs": [
    {
     "name": "stdout",
     "output_type": "stream",
     "text": [
      "Loss: 2.122190, Train accuracy: 0.196667, val accuracy: 0.206000\n",
      "Loss: 2.201423, Train accuracy: 0.251778, val accuracy: 0.256000\n",
      "Loss: 2.131932, Train accuracy: 0.371000, val accuracy: 0.362000\n",
      "Loss: 1.923996, Train accuracy: 0.430000, val accuracy: 0.415000\n",
      "Loss: 1.915647, Train accuracy: 0.442556, val accuracy: 0.432000\n",
      "Loss: 1.907117, Train accuracy: 0.521667, val accuracy: 0.511000\n",
      "Loss: 2.066383, Train accuracy: 0.386111, val accuracy: 0.387000\n",
      "Loss: 1.836315, Train accuracy: 0.509222, val accuracy: 0.516000\n",
      "Loss: 2.060338, Train accuracy: 0.434889, val accuracy: 0.437000\n",
      "Loss: 1.803606, Train accuracy: 0.545556, val accuracy: 0.575000\n"
     ]
    }
   ],
   "source": [
    "\n",
    "# Decay should happen once per epoch\n",
    "\n",
    "model = TwoLayerNet(n_input = train_X.shape[1], n_output = 10, hidden_layer_size = 100, reg = 1e-2)\n",
    "dataset = Dataset(train_X, train_y, val_X, val_y)\n",
    "trainer = Trainer(model, dataset, SGD(),  num_epochs=10, batch_size=100,\n",
    "                  learning_rate=5e-1, learning_rate_decay=0.99)\n",
    "\n",
    "\n",
    "initial_learning_rate = trainer.learning_rate\n",
    "loss_history, train_history, val_history = trainer.fit()\n",
    "\n",
    "assert trainer.learning_rate < initial_learning_rate, \"Learning rate should've been reduced\"\n",
    "assert trainer.learning_rate > 0.5*initial_learning_rate, \"Learning rate shouldn'tve been reduced that much!\""
   ]
  },
  {
   "cell_type": "markdown",
   "metadata": {
    "pycharm": {
     "name": "#%% md\n"
    }
   },
   "source": [
    "# Накопление импульса (Momentum SGD)\n",
    "\n",
    "Другой большой класс оптимизаций - использование более эффективных методов градиентного спуска. Мы реализуем один из них - накопление импульса (Momentum SGD).\n",
    "\n",
    "Этот метод хранит скорость движения, использует градиент для ее изменения на каждом шаге, и изменяет веса пропорционально значению скорости.\n",
    "(Физическая аналогия: Вместо скорости градиенты теперь будут задавать ускорение, но будет присутствовать сила трения.)\n",
    "\n",
    "```\n",
    "velocity = momentum * velocity - learning_rate * gradient \n",
    "w = w + velocity\n",
    "```\n",
    "\n",
    "`momentum` здесь коэффициент затухания, который тоже является гиперпараметром (к счастью, для него часто есть хорошее значение по умолчанию, типичный диапазон -- 0.8-0.99).\n",
    "\n",
    "Несколько полезных ссылок, где метод разбирается более подробно:  \n",
    "http://cs231n.github.io/neural-networks-3/#sgd  \n",
    "https://distill.pub/2017/momentum/"
   ]
  },
  {
   "cell_type": "code",
   "execution_count": 117,
   "metadata": {
    "pycharm": {
     "name": "#%%\n"
    }
   },
   "outputs": [
    {
     "name": "stdout",
     "output_type": "stream",
     "text": [
      "Loss: 2.146062, Train accuracy: 0.257333, val accuracy: 0.244000\n",
      "Loss: 1.906655, Train accuracy: 0.425778, val accuracy: 0.445000\n",
      "Loss: 1.635038, Train accuracy: 0.481444, val accuracy: 0.469000\n",
      "Loss: 1.843154, Train accuracy: 0.524333, val accuracy: 0.526000\n",
      "Loss: 1.914576, Train accuracy: 0.495778, val accuracy: 0.503000\n",
      "Loss: 1.980458, Train accuracy: 0.498333, val accuracy: 0.511000\n",
      "Loss: 1.800633, Train accuracy: 0.552556, val accuracy: 0.558000\n",
      "Loss: 1.662761, Train accuracy: 0.520222, val accuracy: 0.531000\n",
      "Loss: 2.118952, Train accuracy: 0.477444, val accuracy: 0.476000\n",
      "Loss: 1.869553, Train accuracy: 0.535778, val accuracy: 0.542000\n",
      "Loss: 2.003650, Train accuracy: 0.501111, val accuracy: 0.523000\n",
      "Loss: 2.205309, Train accuracy: 0.552111, val accuracy: 0.548000\n",
      "Loss: 2.127924, Train accuracy: 0.560889, val accuracy: 0.573000\n",
      "Loss: 1.407775, Train accuracy: 0.536111, val accuracy: 0.544000\n",
      "Loss: 2.320898, Train accuracy: 0.562778, val accuracy: 0.536000\n",
      "Loss: 2.184488, Train accuracy: 0.576556, val accuracy: 0.585000\n",
      "Loss: 1.740057, Train accuracy: 0.525000, val accuracy: 0.525000\n",
      "Loss: 1.833035, Train accuracy: 0.536889, val accuracy: 0.542000\n",
      "Loss: 2.102063, Train accuracy: 0.563667, val accuracy: 0.565000\n",
      "Loss: 1.877655, Train accuracy: 0.573333, val accuracy: 0.576000\n"
     ]
    }
   ],
   "source": [
    "\n",
    "\n",
    "model = TwoLayerNet(n_input = train_X.shape[1], n_output = 10, hidden_layer_size = 100, reg = 1e-2)\n",
    "dataset = Dataset(train_X, train_y, val_X, val_y)\n",
    "trainer = Trainer(model, dataset, MomentumSGD(momentum=0.5), learning_rate=1e-1, learning_rate_decay=0.99)\n",
    "\n",
    "# You should see even better results than before!\n",
    "loss_history, train_history, val_history = trainer.fit()"
   ]
  },
  {
   "cell_type": "markdown",
   "metadata": {
    "pycharm": {
     "name": "#%% md\n"
    }
   },
   "source": [
    "# Ну что, давайте уже тренировать сеть!"
   ]
  },
  {
   "cell_type": "markdown",
   "metadata": {
    "pycharm": {
     "name": "#%% md\n"
    }
   },
   "source": [
    "## Последний тест - переобучимся (overfit) на маленьком наборе данных\n",
    "\n",
    "Хороший способ проверить, все ли реализовано корректно - переобучить сеть на маленьком наборе данных.  \n",
    "Наша модель обладает достаточной мощностью, чтобы приблизить маленький набор данных идеально, поэтому мы ожидаем, что на нем мы быстро дойдем до 100% точности на тренировочном наборе. \n",
    "\n",
    "Если этого не происходит, то где-то была допущена ошибка!"
   ]
  },
  {
   "cell_type": "code",
   "execution_count": 119,
   "metadata": {
    "pycharm": {
     "name": "#%%\n"
    }
   },
   "outputs": [
    {
     "name": "stdout",
     "output_type": "stream",
     "text": [
      "Loss: 2.318794, Train accuracy: 0.200000, val accuracy: 0.133333\n",
      "Loss: 2.256573, Train accuracy: 0.200000, val accuracy: 0.066667\n",
      "Loss: 2.290963, Train accuracy: 0.266667, val accuracy: 0.000000\n",
      "Loss: 2.073704, Train accuracy: 0.400000, val accuracy: 0.000000\n",
      "Loss: 2.329347, Train accuracy: 0.400000, val accuracy: 0.066667\n",
      "Loss: 1.621465, Train accuracy: 0.400000, val accuracy: 0.000000\n",
      "Loss: 1.717754, Train accuracy: 0.533333, val accuracy: 0.000000\n",
      "Loss: 1.687888, Train accuracy: 0.266667, val accuracy: 0.066667\n",
      "Loss: 1.546175, Train accuracy: 0.533333, val accuracy: 0.000000\n",
      "Loss: 1.931788, Train accuracy: 0.600000, val accuracy: 0.000000\n",
      "Loss: 1.822791, Train accuracy: 0.733333, val accuracy: 0.066667\n",
      "Loss: 1.851774, Train accuracy: 0.666667, val accuracy: 0.000000\n",
      "Loss: 1.892360, Train accuracy: 0.666667, val accuracy: 0.000000\n",
      "Loss: 1.243815, Train accuracy: 0.533333, val accuracy: 0.000000\n",
      "Loss: 0.503895, Train accuracy: 0.733333, val accuracy: 0.000000\n",
      "Loss: 0.835122, Train accuracy: 0.800000, val accuracy: 0.066667\n",
      "Loss: 0.321287, Train accuracy: 0.866667, val accuracy: 0.066667\n",
      "Loss: 0.380077, Train accuracy: 0.866667, val accuracy: 0.066667\n",
      "Loss: 0.386559, Train accuracy: 0.933333, val accuracy: 0.066667\n",
      "Loss: 0.498268, Train accuracy: 0.933333, val accuracy: 0.066667\n",
      "Loss: 0.444659, Train accuracy: 1.000000, val accuracy: 0.066667\n",
      "Loss: 0.286086, Train accuracy: 1.000000, val accuracy: 0.066667\n",
      "Loss: 0.392668, Train accuracy: 1.000000, val accuracy: 0.066667\n",
      "Loss: 0.378106, Train accuracy: 1.000000, val accuracy: 0.066667\n",
      "Loss: 0.217217, Train accuracy: 1.000000, val accuracy: 0.066667\n",
      "Loss: 0.256467, Train accuracy: 1.000000, val accuracy: 0.066667\n",
      "Loss: 0.257512, Train accuracy: 1.000000, val accuracy: 0.066667\n",
      "Loss: 0.289061, Train accuracy: 1.000000, val accuracy: 0.000000\n",
      "Loss: 0.210104, Train accuracy: 1.000000, val accuracy: 0.000000\n",
      "Loss: 0.220599, Train accuracy: 1.000000, val accuracy: 0.000000\n",
      "Loss: 0.209569, Train accuracy: 1.000000, val accuracy: 0.000000\n",
      "Loss: 0.211501, Train accuracy: 1.000000, val accuracy: 0.000000\n",
      "Loss: 0.220639, Train accuracy: 1.000000, val accuracy: 0.000000\n",
      "Loss: 0.228745, Train accuracy: 1.000000, val accuracy: 0.000000\n",
      "Loss: 0.240946, Train accuracy: 1.000000, val accuracy: 0.000000\n",
      "Loss: 0.197418, Train accuracy: 1.000000, val accuracy: 0.000000\n",
      "Loss: 0.215804, Train accuracy: 1.000000, val accuracy: 0.000000\n",
      "Loss: 0.239603, Train accuracy: 1.000000, val accuracy: 0.000000\n",
      "Loss: 0.218662, Train accuracy: 1.000000, val accuracy: 0.000000\n",
      "Loss: 0.229554, Train accuracy: 1.000000, val accuracy: 0.000000\n",
      "Loss: 0.201768, Train accuracy: 1.000000, val accuracy: 0.000000\n",
      "Loss: 0.220396, Train accuracy: 1.000000, val accuracy: 0.000000\n",
      "Loss: 0.227130, Train accuracy: 1.000000, val accuracy: 0.000000\n",
      "Loss: 0.206867, Train accuracy: 1.000000, val accuracy: 0.000000\n",
      "Loss: 0.216311, Train accuracy: 1.000000, val accuracy: 0.000000\n",
      "Loss: 0.205606, Train accuracy: 1.000000, val accuracy: 0.000000\n",
      "Loss: 0.214111, Train accuracy: 1.000000, val accuracy: 0.000000\n",
      "Loss: 0.212660, Train accuracy: 1.000000, val accuracy: 0.000000\n",
      "Loss: 0.219244, Train accuracy: 1.000000, val accuracy: 0.000000\n",
      "Loss: 0.203162, Train accuracy: 1.000000, val accuracy: 0.000000\n",
      "Loss: 0.211306, Train accuracy: 1.000000, val accuracy: 0.000000\n",
      "Loss: 0.218354, Train accuracy: 1.000000, val accuracy: 0.000000\n",
      "Loss: 0.199652, Train accuracy: 1.000000, val accuracy: 0.000000\n",
      "Loss: 0.216264, Train accuracy: 1.000000, val accuracy: 0.000000\n",
      "Loss: 0.215884, Train accuracy: 1.000000, val accuracy: 0.000000\n",
      "Loss: 0.207187, Train accuracy: 1.000000, val accuracy: 0.000000\n",
      "Loss: 0.205587, Train accuracy: 1.000000, val accuracy: 0.000000\n",
      "Loss: 0.197963, Train accuracy: 1.000000, val accuracy: 0.000000\n",
      "Loss: 0.211594, Train accuracy: 1.000000, val accuracy: 0.000000\n",
      "Loss: 0.204231, Train accuracy: 1.000000, val accuracy: 0.000000\n",
      "Loss: 0.214543, Train accuracy: 1.000000, val accuracy: 0.000000\n",
      "Loss: 0.212674, Train accuracy: 1.000000, val accuracy: 0.000000\n",
      "Loss: 0.201247, Train accuracy: 1.000000, val accuracy: 0.000000\n",
      "Loss: 0.212535, Train accuracy: 1.000000, val accuracy: 0.000000\n",
      "Loss: 0.210204, Train accuracy: 1.000000, val accuracy: 0.000000\n",
      "Loss: 0.198569, Train accuracy: 1.000000, val accuracy: 0.000000\n",
      "Loss: 0.218485, Train accuracy: 1.000000, val accuracy: 0.000000\n",
      "Loss: 0.208898, Train accuracy: 1.000000, val accuracy: 0.000000\n",
      "Loss: 0.199925, Train accuracy: 1.000000, val accuracy: 0.000000\n",
      "Loss: 0.217183, Train accuracy: 1.000000, val accuracy: 0.000000\n",
      "Loss: 0.201564, Train accuracy: 1.000000, val accuracy: 0.000000\n",
      "Loss: 0.200202, Train accuracy: 1.000000, val accuracy: 0.000000\n",
      "Loss: 0.210605, Train accuracy: 1.000000, val accuracy: 0.000000\n",
      "Loss: 0.211405, Train accuracy: 1.000000, val accuracy: 0.000000\n",
      "Loss: 0.202489, Train accuracy: 1.000000, val accuracy: 0.000000\n",
      "Loss: 0.204679, Train accuracy: 1.000000, val accuracy: 0.000000\n",
      "Loss: 0.202726, Train accuracy: 1.000000, val accuracy: 0.000000\n",
      "Loss: 0.204689, Train accuracy: 1.000000, val accuracy: 0.000000\n",
      "Loss: 0.202915, Train accuracy: 1.000000, val accuracy: 0.000000\n",
      "Loss: 0.193157, Train accuracy: 1.000000, val accuracy: 0.000000\n",
      "Loss: 0.190449, Train accuracy: 1.000000, val accuracy: 0.000000\n",
      "Loss: 0.205001, Train accuracy: 1.000000, val accuracy: 0.000000\n",
      "Loss: 0.188162, Train accuracy: 1.000000, val accuracy: 0.000000\n",
      "Loss: 0.191798, Train accuracy: 1.000000, val accuracy: 0.000000\n",
      "Loss: 0.195955, Train accuracy: 1.000000, val accuracy: 0.000000\n",
      "Loss: 0.192998, Train accuracy: 1.000000, val accuracy: 0.000000\n",
      "Loss: 0.196022, Train accuracy: 1.000000, val accuracy: 0.000000\n",
      "Loss: 0.189782, Train accuracy: 1.000000, val accuracy: 0.000000\n",
      "Loss: 0.204292, Train accuracy: 1.000000, val accuracy: 0.000000\n",
      "Loss: 0.206609, Train accuracy: 1.000000, val accuracy: 0.000000\n",
      "Loss: 0.200681, Train accuracy: 1.000000, val accuracy: 0.000000\n",
      "Loss: 0.195864, Train accuracy: 1.000000, val accuracy: 0.000000\n",
      "Loss: 0.202953, Train accuracy: 1.000000, val accuracy: 0.000000\n",
      "Loss: 0.195812, Train accuracy: 1.000000, val accuracy: 0.000000\n",
      "Loss: 0.203010, Train accuracy: 1.000000, val accuracy: 0.000000\n",
      "Loss: 0.202370, Train accuracy: 1.000000, val accuracy: 0.000000\n",
      "Loss: 0.206670, Train accuracy: 1.000000, val accuracy: 0.000000\n",
      "Loss: 0.200458, Train accuracy: 1.000000, val accuracy: 0.000000\n",
      "Loss: 0.188075, Train accuracy: 1.000000, val accuracy: 0.000000\n",
      "Loss: 0.186044, Train accuracy: 1.000000, val accuracy: 0.000000\n",
      "Loss: 0.198920, Train accuracy: 1.000000, val accuracy: 0.000000\n",
      "Loss: 0.209803, Train accuracy: 1.000000, val accuracy: 0.000000\n",
      "Loss: 0.208182, Train accuracy: 1.000000, val accuracy: 0.000000\n",
      "Loss: 0.186900, Train accuracy: 1.000000, val accuracy: 0.000000\n",
      "Loss: 0.196203, Train accuracy: 1.000000, val accuracy: 0.000000\n",
      "Loss: 0.185805, Train accuracy: 1.000000, val accuracy: 0.000000\n",
      "Loss: 0.205928, Train accuracy: 1.000000, val accuracy: 0.000000\n",
      "Loss: 0.197188, Train accuracy: 1.000000, val accuracy: 0.000000\n",
      "Loss: 0.196745, Train accuracy: 1.000000, val accuracy: 0.000000\n",
      "Loss: 0.199639, Train accuracy: 1.000000, val accuracy: 0.000000\n",
      "Loss: 0.204674, Train accuracy: 1.000000, val accuracy: 0.000000\n",
      "Loss: 0.194465, Train accuracy: 1.000000, val accuracy: 0.000000\n",
      "Loss: 0.200256, Train accuracy: 1.000000, val accuracy: 0.000000\n",
      "Loss: 0.201183, Train accuracy: 1.000000, val accuracy: 0.000000\n",
      "Loss: 0.196126, Train accuracy: 1.000000, val accuracy: 0.000000\n",
      "Loss: 0.193070, Train accuracy: 1.000000, val accuracy: 0.000000\n",
      "Loss: 0.204786, Train accuracy: 1.000000, val accuracy: 0.000000\n",
      "Loss: 0.206541, Train accuracy: 1.000000, val accuracy: 0.000000\n",
      "Loss: 0.201852, Train accuracy: 1.000000, val accuracy: 0.000000\n",
      "Loss: 0.195334, Train accuracy: 1.000000, val accuracy: 0.000000\n",
      "Loss: 0.188591, Train accuracy: 1.000000, val accuracy: 0.000000\n",
      "Loss: 0.201106, Train accuracy: 1.000000, val accuracy: 0.000000\n",
      "Loss: 0.198019, Train accuracy: 1.000000, val accuracy: 0.000000\n",
      "Loss: 0.202142, Train accuracy: 1.000000, val accuracy: 0.000000\n",
      "Loss: 0.193287, Train accuracy: 1.000000, val accuracy: 0.000000\n",
      "Loss: 0.194493, Train accuracy: 1.000000, val accuracy: 0.000000\n",
      "Loss: 0.193160, Train accuracy: 1.000000, val accuracy: 0.000000\n",
      "Loss: 0.202455, Train accuracy: 1.000000, val accuracy: 0.000000\n",
      "Loss: 0.205778, Train accuracy: 1.000000, val accuracy: 0.000000\n",
      "Loss: 0.194217, Train accuracy: 1.000000, val accuracy: 0.000000\n",
      "Loss: 0.179872, Train accuracy: 1.000000, val accuracy: 0.000000\n",
      "Loss: 0.178807, Train accuracy: 1.000000, val accuracy: 0.000000\n",
      "Loss: 0.189489, Train accuracy: 1.000000, val accuracy: 0.000000\n",
      "Loss: 0.198465, Train accuracy: 1.000000, val accuracy: 0.000000\n",
      "Loss: 0.180476, Train accuracy: 1.000000, val accuracy: 0.000000\n",
      "Loss: 0.193264, Train accuracy: 1.000000, val accuracy: 0.000000\n",
      "Loss: 0.200054, Train accuracy: 1.000000, val accuracy: 0.000000\n",
      "Loss: 0.187283, Train accuracy: 1.000000, val accuracy: 0.000000\n",
      "Loss: 0.199612, Train accuracy: 1.000000, val accuracy: 0.000000\n",
      "Loss: 0.190532, Train accuracy: 1.000000, val accuracy: 0.000000\n",
      "Loss: 0.194003, Train accuracy: 1.000000, val accuracy: 0.000000\n",
      "Loss: 0.187694, Train accuracy: 1.000000, val accuracy: 0.000000\n",
      "Loss: 0.203196, Train accuracy: 1.000000, val accuracy: 0.000000\n",
      "Loss: 0.201207, Train accuracy: 1.000000, val accuracy: 0.000000\n",
      "Loss: 0.184651, Train accuracy: 1.000000, val accuracy: 0.000000\n",
      "Loss: 0.187338, Train accuracy: 1.000000, val accuracy: 0.000000\n",
      "Loss: 0.192165, Train accuracy: 1.000000, val accuracy: 0.000000\n",
      "Loss: 0.187444, Train accuracy: 1.000000, val accuracy: 0.000000\n",
      "Loss: 0.199411, Train accuracy: 1.000000, val accuracy: 0.000000\n",
      "Loss: 0.186120, Train accuracy: 1.000000, val accuracy: 0.000000\n"
     ]
    }
   ],
   "source": [
    "data_size = 15\n",
    "model = TwoLayerNet(n_input = train_X.shape[1], n_output = 10, hidden_layer_size = 100, reg = 1e-2)\n",
    "dataset = Dataset(train_X[:data_size], train_y[:data_size], val_X[:data_size], val_y[:data_size])\n",
    "trainer = Trainer(model, dataset, SGD(), learning_rate=3e-1, num_epochs=150, batch_size=5)\n",
    "\n",
    "# You should expect this to reach 1.0 training accuracy \n",
    "loss_history, train_history, val_history = trainer.fit()"
   ]
  },
  {
   "cell_type": "markdown",
   "metadata": {
    "pycharm": {
     "name": "#%% md\n"
    }
   },
   "source": [
    "Теперь найдем гипепараметры, для которых этот процесс сходится быстрее.\n",
    "Если все реализовано корректно, то существуют параметры, при которых процесс сходится в **20** эпох или еще быстрее.\n",
    "Найдите их!"
   ]
  },
  {
   "cell_type": "code",
   "execution_count": 133,
   "metadata": {
    "pycharm": {
     "name": "#%%\n"
    }
   },
   "outputs": [
    {
     "name": "stdout",
     "output_type": "stream",
     "text": [
      "Loss: 2.291081, Train accuracy: 0.200000, val accuracy: 0.133333\n",
      "Loss: 2.231431, Train accuracy: 0.200000, val accuracy: 0.066667\n",
      "Loss: 2.237274, Train accuracy: 0.266667, val accuracy: 0.000000\n",
      "Loss: 2.093766, Train accuracy: 0.400000, val accuracy: 0.000000\n",
      "Loss: 2.353461, Train accuracy: 0.400000, val accuracy: 0.066667\n",
      "Loss: 1.633088, Train accuracy: 0.400000, val accuracy: 0.000000\n",
      "Loss: 1.792018, Train accuracy: 0.400000, val accuracy: 0.000000\n",
      "Loss: 1.962871, Train accuracy: 0.400000, val accuracy: 0.066667\n",
      "Loss: 1.826493, Train accuracy: 0.533333, val accuracy: 0.000000\n",
      "Loss: 1.503490, Train accuracy: 0.600000, val accuracy: 0.000000\n",
      "Loss: 1.710039, Train accuracy: 0.666667, val accuracy: 0.000000\n",
      "Loss: 1.382539, Train accuracy: 0.600000, val accuracy: 0.066667\n",
      "Loss: 1.577237, Train accuracy: 0.466667, val accuracy: 0.133333\n",
      "Loss: 1.000287, Train accuracy: 0.733333, val accuracy: 0.066667\n",
      "Loss: 0.732487, Train accuracy: 0.666667, val accuracy: 0.000000\n",
      "Loss: 1.079172, Train accuracy: 0.866667, val accuracy: 0.066667\n",
      "Loss: 0.868581, Train accuracy: 1.000000, val accuracy: 0.000000\n",
      "Loss: 0.379896, Train accuracy: 1.000000, val accuracy: 0.000000\n",
      "Loss: 0.112075, Train accuracy: 1.000000, val accuracy: 0.000000\n",
      "Loss: 0.194056, Train accuracy: 1.000000, val accuracy: 0.000000\n"
     ]
    }
   ],
   "source": [
    "# Now, tweak some hyper parameters and make it train to 1.0 accuracy in 20 epochs or less\n",
    "\n",
    "model = TwoLayerNet(n_input = train_X.shape[1], n_output = 10, hidden_layer_size = 100, reg = 0)\n",
    "dataset = Dataset(train_X[:data_size], train_y[:data_size], val_X[:data_size], val_y[:data_size])\n",
    "trainer = Trainer(model, dataset, SGD(), learning_rate=3e-1, num_epochs=20, batch_size=5)\n",
    "\n",
    "loss_history, train_history, val_history = trainer.fit()"
   ]
  },
  {
   "cell_type": "markdown",
   "metadata": {
    "pycharm": {
     "name": "#%% md\n"
    }
   },
   "source": [
    "# Итак, основное мероприятие!\n",
    "\n",
    "Натренируйте лучшую нейросеть! Можно добавлять и изменять параметры, менять количество нейронов в слоях сети и как угодно экспериментировать. \n",
    "\n",
    "Добейтесь точности лучше **60%** на validation set."
   ]
  },
  {
   "cell_type": "code",
   "execution_count": 147,
   "metadata": {
    "scrolled": true,
    "pycharm": {
     "name": "#%%\n"
    }
   },
   "outputs": [
    {
     "name": "stdout",
     "output_type": "stream",
     "text": [
      "val acc: 6.67e-02, lr: 1.00e-01, reg: 1.00e-04, hls: 64, optim: <optim.SGD object at 0x7fdf728818b0>\n",
      "val acc: 0.00e+00, lr: 1.00e-01, reg: 1.00e-04, hls: 64, optim: <optim.MomentumSGD object at 0x7fdf72881f40>\n",
      "val acc: 0.00e+00, lr: 1.00e-01, reg: 1.00e-04, hls: 96, optim: <optim.SGD object at 0x7fdf7298e8e0>\n",
      "val acc: 0.00e+00, lr: 1.00e-01, reg: 1.00e-04, hls: 96, optim: <optim.MomentumSGD object at 0x7fdf72ad3040>\n",
      "val acc: 6.67e-02, lr: 1.00e-01, reg: 1.00e-04, hls: 128, optim: <optim.SGD object at 0x7fdf72881fd0>\n",
      "val acc: 0.00e+00, lr: 1.00e-01, reg: 1.00e-04, hls: 128, optim: <optim.MomentumSGD object at 0x7fdf72ad3370>\n",
      "val acc: 0.00e+00, lr: 1.00e-01, reg: 1.00e-04, hls: 64, optim: <optim.SGD object at 0x7fdf7298eaf0>\n",
      "val acc: 0.00e+00, lr: 1.00e-01, reg: 1.00e-04, hls: 64, optim: <optim.MomentumSGD object at 0x7fdf72881fd0>\n",
      "val acc: 0.00e+00, lr: 1.00e-01, reg: 1.00e-04, hls: 96, optim: <optim.SGD object at 0x7fdf7298eac0>\n",
      "val acc: 0.00e+00, lr: 1.00e-01, reg: 1.00e-04, hls: 96, optim: <optim.MomentumSGD object at 0x7fdf72881fd0>\n",
      "val acc: 0.00e+00, lr: 1.00e-01, reg: 1.00e-04, hls: 128, optim: <optim.SGD object at 0x7fdf7298e040>\n",
      "val acc: 0.00e+00, lr: 1.00e-01, reg: 1.00e-04, hls: 128, optim: <optim.MomentumSGD object at 0x7fdf6abd5730>\n",
      "val acc: 0.00e+00, lr: 1.00e-01, reg: 1.00e-04, hls: 64, optim: <optim.SGD object at 0x7fdf7185c250>\n",
      "val acc: 0.00e+00, lr: 1.00e-01, reg: 1.00e-04, hls: 64, optim: <optim.MomentumSGD object at 0x7fdf6ab4dbb0>\n",
      "val acc: 0.00e+00, lr: 1.00e-01, reg: 1.00e-04, hls: 96, optim: <optim.SGD object at 0x7fdfacd8bb20>\n",
      "val acc: 0.00e+00, lr: 1.00e-01, reg: 1.00e-04, hls: 96, optim: <optim.MomentumSGD object at 0x7fdf6ab4dbb0>\n",
      "val acc: 6.67e-02, lr: 1.00e-01, reg: 1.00e-04, hls: 128, optim: <optim.SGD object at 0x7fdf7185c250>\n",
      "val acc: 1.33e-01, lr: 1.00e-01, reg: 1.00e-04, hls: 128, optim: <optim.MomentumSGD object at 0x7fdf72c19af0>\n",
      "val acc: 6.67e-02, lr: 1.00e-01, reg: 5.05e-03, hls: 64, optim: <optim.SGD object at 0x7fdf7185c250>\n",
      "val acc: 0.00e+00, lr: 1.00e-01, reg: 5.05e-03, hls: 64, optim: <optim.MomentumSGD object at 0x7fdf72c19760>\n",
      "val acc: 6.67e-02, lr: 1.00e-01, reg: 5.05e-03, hls: 96, optim: <optim.SGD object at 0x7fdf72c27610>\n",
      "val acc: 6.67e-02, lr: 1.00e-01, reg: 5.05e-03, hls: 96, optim: <optim.MomentumSGD object at 0x7fdf7298ebb0>\n",
      "val acc: 6.67e-02, lr: 1.00e-01, reg: 5.05e-03, hls: 128, optim: <optim.SGD object at 0x7fdf6ebe6190>\n",
      "val acc: 6.67e-02, lr: 1.00e-01, reg: 5.05e-03, hls: 128, optim: <optim.MomentumSGD object at 0x7fdf7185c250>\n",
      "val acc: 6.67e-02, lr: 1.00e-01, reg: 5.05e-03, hls: 64, optim: <optim.SGD object at 0x7fdf6ab4dbb0>\n",
      "val acc: 6.67e-02, lr: 1.00e-01, reg: 5.05e-03, hls: 64, optim: <optim.MomentumSGD object at 0x7fdf72a41a30>\n",
      "val acc: 6.67e-02, lr: 1.00e-01, reg: 5.05e-03, hls: 96, optim: <optim.SGD object at 0x7fdf72a41a00>\n",
      "val acc: 6.67e-02, lr: 1.00e-01, reg: 5.05e-03, hls: 96, optim: <optim.MomentumSGD object at 0x7fdf6ebe6190>\n",
      "val acc: 6.67e-02, lr: 1.00e-01, reg: 5.05e-03, hls: 128, optim: <optim.SGD object at 0x7fdf72c27940>\n",
      "val acc: 0.00e+00, lr: 1.00e-01, reg: 5.05e-03, hls: 128, optim: <optim.MomentumSGD object at 0x7fdf7298ebb0>\n",
      "val acc: 0.00e+00, lr: 1.00e-01, reg: 5.05e-03, hls: 64, optim: <optim.SGD object at 0x7fdf72a41bb0>\n",
      "val acc: 0.00e+00, lr: 1.00e-01, reg: 5.05e-03, hls: 64, optim: <optim.MomentumSGD object at 0x7fdf7298ebb0>\n",
      "val acc: 0.00e+00, lr: 1.00e-01, reg: 5.05e-03, hls: 96, optim: <optim.SGD object at 0x7fdf72a41f40>\n",
      "val acc: 1.33e-01, lr: 1.00e-01, reg: 5.05e-03, hls: 96, optim: <optim.MomentumSGD object at 0x7fdf7298ebb0>\n",
      "val acc: 0.00e+00, lr: 1.00e-01, reg: 5.05e-03, hls: 128, optim: <optim.SGD object at 0x7fdf72c19760>\n",
      "val acc: 6.67e-02, lr: 1.00e-01, reg: 5.05e-03, hls: 128, optim: <optim.MomentumSGD object at 0x7fdf72a41a30>\n",
      "val acc: 0.00e+00, lr: 1.00e-01, reg: 1.00e-02, hls: 64, optim: <optim.SGD object at 0x7fdf72c19af0>\n",
      "val acc: 0.00e+00, lr: 1.00e-01, reg: 1.00e-02, hls: 64, optim: <optim.MomentumSGD object at 0x7fdf72a41f40>\n",
      "val acc: 6.67e-02, lr: 1.00e-01, reg: 1.00e-02, hls: 96, optim: <optim.SGD object at 0x7fdf7298e5b0>\n",
      "val acc: 0.00e+00, lr: 1.00e-01, reg: 1.00e-02, hls: 96, optim: <optim.MomentumSGD object at 0x7fdf72c19640>\n",
      "val acc: 0.00e+00, lr: 1.00e-01, reg: 1.00e-02, hls: 128, optim: <optim.SGD object at 0x7fdf72881250>\n",
      "val acc: 1.33e-01, lr: 1.00e-01, reg: 1.00e-02, hls: 128, optim: <optim.MomentumSGD object at 0x7fdf72a41670>\n",
      "val acc: 6.67e-02, lr: 1.00e-01, reg: 1.00e-02, hls: 64, optim: <optim.SGD object at 0x7fdf72c19640>\n"
     ]
    },
    {
     "name": "stderr",
     "output_type": "stream",
     "text": [
      "/Users/sashamalakhatka/Documents/ML/assignments/assignment2/layers.py:61: RuntimeWarning: divide by zero encountered in log\n",
      "  loss = - np.log(probs[np.arange(len(probs)), target_index]).mean()\n"
     ]
    },
    {
     "name": "stdout",
     "output_type": "stream",
     "text": [
      "val acc: 6.67e-02, lr: 1.00e-01, reg: 1.00e-02, hls: 64, optim: <optim.MomentumSGD object at 0x7fdf6ebe6190>\n",
      "val acc: 0.00e+00, lr: 1.00e-01, reg: 1.00e-02, hls: 96, optim: <optim.SGD object at 0x7fdf72a41bb0>\n",
      "val acc: 0.00e+00, lr: 1.00e-01, reg: 1.00e-02, hls: 96, optim: <optim.MomentumSGD object at 0x7fdf7185c250>\n",
      "val acc: 0.00e+00, lr: 1.00e-01, reg: 1.00e-02, hls: 128, optim: <optim.SGD object at 0x7fdf6ab4dbb0>\n",
      "val acc: 1.33e-01, lr: 1.00e-01, reg: 1.00e-02, hls: 128, optim: <optim.MomentumSGD object at 0x7fdf6ebe6190>\n",
      "val acc: 6.67e-02, lr: 1.00e-01, reg: 1.00e-02, hls: 64, optim: <optim.SGD object at 0x7fdf72c27640>\n",
      "val acc: 0.00e+00, lr: 1.00e-01, reg: 1.00e-02, hls: 64, optim: <optim.MomentumSGD object at 0x7fdf7298ebb0>\n",
      "val acc: 6.67e-02, lr: 1.00e-01, reg: 1.00e-02, hls: 96, optim: <optim.SGD object at 0x7fdf72a41a00>\n",
      "val acc: 1.33e-01, lr: 1.00e-01, reg: 1.00e-02, hls: 96, optim: <optim.MomentumSGD object at 0x7fdf6ebe6190>\n",
      "val acc: 0.00e+00, lr: 1.00e-01, reg: 1.00e-02, hls: 128, optim: <optim.SGD object at 0x7fdf72c19640>\n",
      "val acc: 1.33e-01, lr: 1.00e-01, reg: 1.00e-02, hls: 128, optim: <optim.MomentumSGD object at 0x7fdf7298e5b0>\n",
      "val acc: 6.67e-02, lr: 3.00e-01, reg: 1.00e-04, hls: 64, optim: <optim.SGD object at 0x7fdf72c27610>\n",
      "val acc: 6.67e-02, lr: 3.00e-01, reg: 1.00e-04, hls: 64, optim: <optim.MomentumSGD object at 0x7fdf72ad3af0>\n",
      "val acc: 0.00e+00, lr: 3.00e-01, reg: 1.00e-04, hls: 96, optim: <optim.SGD object at 0x7fdf72a41670>\n",
      "val acc: 6.67e-02, lr: 3.00e-01, reg: 1.00e-04, hls: 96, optim: <optim.MomentumSGD object at 0x7fdf72ad3af0>\n",
      "val acc: 0.00e+00, lr: 3.00e-01, reg: 1.00e-04, hls: 128, optim: <optim.SGD object at 0x7fdf72c27610>\n",
      "val acc: 0.00e+00, lr: 3.00e-01, reg: 1.00e-04, hls: 128, optim: <optim.MomentumSGD object at 0x7fdf72a41670>\n",
      "val acc: 0.00e+00, lr: 3.00e-01, reg: 1.00e-04, hls: 64, optim: <optim.SGD object at 0x7fdf72a41bb0>\n",
      "val acc: 1.33e-01, lr: 3.00e-01, reg: 1.00e-04, hls: 64, optim: <optim.MomentumSGD object at 0x7fdf6ebe6190>\n",
      "val acc: 0.00e+00, lr: 3.00e-01, reg: 1.00e-04, hls: 96, optim: <optim.SGD object at 0x7fdf72c19760>\n",
      "val acc: 6.67e-02, lr: 3.00e-01, reg: 1.00e-04, hls: 96, optim: <optim.MomentumSGD object at 0x7fdf72ad3af0>\n",
      "val acc: 0.00e+00, lr: 3.00e-01, reg: 1.00e-04, hls: 128, optim: <optim.SGD object at 0x7fdf72c19640>\n",
      "val acc: 1.33e-01, lr: 3.00e-01, reg: 1.00e-04, hls: 128, optim: <optim.MomentumSGD object at 0x7fdf6ab4dbb0>\n",
      "val acc: 0.00e+00, lr: 3.00e-01, reg: 1.00e-04, hls: 64, optim: <optim.SGD object at 0x7fdf72c19640>\n",
      "val acc: 1.33e-01, lr: 3.00e-01, reg: 1.00e-04, hls: 64, optim: <optim.MomentumSGD object at 0x7fdf72a41670>\n",
      "val acc: 0.00e+00, lr: 3.00e-01, reg: 1.00e-04, hls: 96, optim: <optim.SGD object at 0x7fdf72c27eb0>\n",
      "val acc: 1.33e-01, lr: 3.00e-01, reg: 1.00e-04, hls: 96, optim: <optim.MomentumSGD object at 0x7fdf72a41f40>\n",
      "val acc: 0.00e+00, lr: 3.00e-01, reg: 1.00e-04, hls: 128, optim: <optim.SGD object at 0x7fdf72c27f70>\n",
      "val acc: 0.00e+00, lr: 3.00e-01, reg: 1.00e-04, hls: 128, optim: <optim.MomentumSGD object at 0x7fdf72a41bb0>\n",
      "val acc: 6.67e-02, lr: 3.00e-01, reg: 5.05e-03, hls: 64, optim: <optim.SGD object at 0x7fdf72c27eb0>\n",
      "val acc: 2.00e-01, lr: 3.00e-01, reg: 5.05e-03, hls: 64, optim: <optim.MomentumSGD object at 0x7fdf72c19760>\n",
      "val acc: 0.00e+00, lr: 3.00e-01, reg: 5.05e-03, hls: 96, optim: <optim.SGD object at 0x7fdf72c271c0>\n",
      "val acc: 6.67e-02, lr: 3.00e-01, reg: 5.05e-03, hls: 96, optim: <optim.MomentumSGD object at 0x7fdf72c19af0>\n",
      "val acc: 0.00e+00, lr: 3.00e-01, reg: 5.05e-03, hls: 128, optim: <optim.SGD object at 0x7fdf72881a60>\n",
      "val acc: 1.33e-01, lr: 3.00e-01, reg: 5.05e-03, hls: 128, optim: <optim.MomentumSGD object at 0x7fdf7298e5b0>\n",
      "val acc: 0.00e+00, lr: 3.00e-01, reg: 5.05e-03, hls: 64, optim: <optim.SGD object at 0x7fdf728817c0>\n",
      "val acc: 0.00e+00, lr: 3.00e-01, reg: 5.05e-03, hls: 64, optim: <optim.MomentumSGD object at 0x7fdf72a41700>\n",
      "val acc: 6.67e-02, lr: 3.00e-01, reg: 5.05e-03, hls: 96, optim: <optim.SGD object at 0x7fdf7185c250>\n",
      "val acc: 1.33e-01, lr: 3.00e-01, reg: 5.05e-03, hls: 96, optim: <optim.MomentumSGD object at 0x7fdf72a41700>\n",
      "val acc: 0.00e+00, lr: 3.00e-01, reg: 5.05e-03, hls: 128, optim: <optim.SGD object at 0x7fdf72881f70>\n",
      "val acc: 6.67e-02, lr: 3.00e-01, reg: 5.05e-03, hls: 128, optim: <optim.MomentumSGD object at 0x7fdf72a41a30>\n",
      "val acc: 0.00e+00, lr: 3.00e-01, reg: 5.05e-03, hls: 64, optim: <optim.SGD object at 0x7fdf72a41bb0>\n",
      "val acc: 1.33e-01, lr: 3.00e-01, reg: 5.05e-03, hls: 64, optim: <optim.MomentumSGD object at 0x7fdf72c19af0>\n",
      "val acc: 6.67e-02, lr: 3.00e-01, reg: 5.05e-03, hls: 96, optim: <optim.SGD object at 0x7fdf72a41bb0>\n",
      "val acc: 2.00e-01, lr: 3.00e-01, reg: 5.05e-03, hls: 96, optim: <optim.MomentumSGD object at 0x7fdf72ad3af0>\n",
      "val acc: 0.00e+00, lr: 3.00e-01, reg: 5.05e-03, hls: 128, optim: <optim.SGD object at 0x7fdf72a41a30>\n",
      "val acc: 2.00e-01, lr: 3.00e-01, reg: 5.05e-03, hls: 128, optim: <optim.MomentumSGD object at 0x7fdfacd8bb20>\n",
      "val acc: 0.00e+00, lr: 3.00e-01, reg: 1.00e-02, hls: 64, optim: <optim.SGD object at 0x7fdf72c19af0>\n",
      "val acc: 1.33e-01, lr: 3.00e-01, reg: 1.00e-02, hls: 64, optim: <optim.MomentumSGD object at 0x7fdf72c19640>\n",
      "val acc: 0.00e+00, lr: 3.00e-01, reg: 1.00e-02, hls: 96, optim: <optim.SGD object at 0x7fdf6ab4dbb0>\n",
      "val acc: 1.33e-01, lr: 3.00e-01, reg: 1.00e-02, hls: 96, optim: <optim.MomentumSGD object at 0x7fdf72a41f40>\n",
      "val acc: 0.00e+00, lr: 3.00e-01, reg: 1.00e-02, hls: 128, optim: <optim.SGD object at 0x7fdf72881a00>\n",
      "val acc: 1.33e-01, lr: 3.00e-01, reg: 1.00e-02, hls: 128, optim: <optim.MomentumSGD object at 0x7fdf6ab4dbb0>\n",
      "val acc: 0.00e+00, lr: 3.00e-01, reg: 1.00e-02, hls: 64, optim: <optim.SGD object at 0x7fdf72a41bb0>\n",
      "val acc: 2.00e-01, lr: 3.00e-01, reg: 1.00e-02, hls: 64, optim: <optim.MomentumSGD object at 0x7fdf7298e5b0>\n",
      "val acc: 0.00e+00, lr: 3.00e-01, reg: 1.00e-02, hls: 96, optim: <optim.SGD object at 0x7fdf72a41f40>\n",
      "val acc: 6.67e-02, lr: 3.00e-01, reg: 1.00e-02, hls: 96, optim: <optim.MomentumSGD object at 0x7fdf72a41a30>\n",
      "val acc: 0.00e+00, lr: 3.00e-01, reg: 1.00e-02, hls: 128, optim: <optim.SGD object at 0x7fdf72c19af0>\n",
      "val acc: 6.67e-02, lr: 3.00e-01, reg: 1.00e-02, hls: 128, optim: <optim.MomentumSGD object at 0x7fdf72a41a30>\n",
      "val acc: 0.00e+00, lr: 3.00e-01, reg: 1.00e-02, hls: 64, optim: <optim.SGD object at 0x7fdf72881f70>\n",
      "val acc: 2.67e-01, lr: 3.00e-01, reg: 1.00e-02, hls: 64, optim: <optim.MomentumSGD object at 0x7fdf72c19760>\n",
      "val acc: 0.00e+00, lr: 3.00e-01, reg: 1.00e-02, hls: 96, optim: <optim.SGD object at 0x7fdf72a41670>\n",
      "val acc: 0.00e+00, lr: 3.00e-01, reg: 1.00e-02, hls: 96, optim: <optim.MomentumSGD object at 0x7fdfacd8bb20>\n",
      "val acc: 0.00e+00, lr: 3.00e-01, reg: 1.00e-02, hls: 128, optim: <optim.SGD object at 0x7fdf7298e5b0>\n",
      "val acc: 0.00e+00, lr: 3.00e-01, reg: 1.00e-02, hls: 128, optim: <optim.MomentumSGD object at 0x7fdf72c19af0>\n",
      "val acc: 1.33e-01, lr: 5.00e-01, reg: 1.00e-04, hls: 64, optim: <optim.SGD object at 0x7fdf7298ebb0>\n",
      "val acc: 1.33e-01, lr: 5.00e-01, reg: 1.00e-04, hls: 64, optim: <optim.MomentumSGD object at 0x7fdf6ab4dbb0>\n",
      "val acc: 1.33e-01, lr: 5.00e-01, reg: 1.00e-04, hls: 96, optim: <optim.SGD object at 0x7fdf6ebe6190>\n",
      "val acc: 1.33e-01, lr: 5.00e-01, reg: 1.00e-04, hls: 96, optim: <optim.MomentumSGD object at 0x7fdf72a41a30>\n",
      "val acc: 2.00e-01, lr: 5.00e-01, reg: 1.00e-04, hls: 128, optim: <optim.SGD object at 0x7fdf7298ebb0>\n",
      "val acc: 1.33e-01, lr: 5.00e-01, reg: 1.00e-04, hls: 128, optim: <optim.MomentumSGD object at 0x7fdf7298e5b0>\n",
      "val acc: 2.67e-01, lr: 5.00e-01, reg: 1.00e-04, hls: 64, optim: <optim.SGD object at 0x7fdfacd8bb20>\n",
      "val acc: 0.00e+00, lr: 5.00e-01, reg: 1.00e-04, hls: 64, optim: <optim.MomentumSGD object at 0x7fdf6ebe6190>\n",
      "val acc: 0.00e+00, lr: 5.00e-01, reg: 1.00e-04, hls: 96, optim: <optim.SGD object at 0x7fdf6ab4dbb0>\n",
      "val acc: 1.33e-01, lr: 5.00e-01, reg: 1.00e-04, hls: 96, optim: <optim.MomentumSGD object at 0x7fdf72a41670>\n",
      "val acc: 6.67e-02, lr: 5.00e-01, reg: 1.00e-04, hls: 128, optim: <optim.SGD object at 0x7fdf7298e5b0>\n",
      "val acc: 1.33e-01, lr: 5.00e-01, reg: 1.00e-04, hls: 128, optim: <optim.MomentumSGD object at 0x7fdf72c19640>\n",
      "val acc: 6.67e-02, lr: 5.00e-01, reg: 1.00e-04, hls: 64, optim: <optim.SGD object at 0x7fdf72a41bb0>\n",
      "val acc: 1.33e-01, lr: 5.00e-01, reg: 1.00e-04, hls: 64, optim: <optim.MomentumSGD object at 0x7fdf72a41700>\n",
      "val acc: 1.33e-01, lr: 5.00e-01, reg: 1.00e-04, hls: 96, optim: <optim.SGD object at 0x7fdf72c27dc0>\n",
      "val acc: 2.00e-01, lr: 5.00e-01, reg: 1.00e-04, hls: 96, optim: <optim.MomentumSGD object at 0x7fdf7298e5b0>\n",
      "val acc: 1.33e-01, lr: 5.00e-01, reg: 1.00e-04, hls: 128, optim: <optim.SGD object at 0x7fdf72c276d0>\n",
      "val acc: 6.67e-02, lr: 5.00e-01, reg: 1.00e-04, hls: 128, optim: <optim.MomentumSGD object at 0x7fdf6ab4dbb0>\n",
      "val acc: 2.00e-01, lr: 5.00e-01, reg: 5.05e-03, hls: 64, optim: <optim.SGD object at 0x7fdf72c272e0>\n",
      "val acc: 2.00e-01, lr: 5.00e-01, reg: 5.05e-03, hls: 64, optim: <optim.MomentumSGD object at 0x7fdf72a41bb0>\n",
      "val acc: 6.67e-02, lr: 5.00e-01, reg: 5.05e-03, hls: 96, optim: <optim.SGD object at 0x7fdf6ab4dbb0>\n",
      "val acc: 6.67e-02, lr: 5.00e-01, reg: 5.05e-03, hls: 96, optim: <optim.MomentumSGD object at 0x7fdf72c19af0>\n",
      "val acc: 1.33e-01, lr: 5.00e-01, reg: 5.05e-03, hls: 128, optim: <optim.SGD object at 0x7fdf72a41bb0>\n",
      "val acc: 1.33e-01, lr: 5.00e-01, reg: 5.05e-03, hls: 128, optim: <optim.MomentumSGD object at 0x7fdf7298ebb0>\n",
      "val acc: 1.33e-01, lr: 5.00e-01, reg: 5.05e-03, hls: 64, optim: <optim.SGD object at 0x7fdf72c272e0>\n",
      "val acc: 6.67e-02, lr: 5.00e-01, reg: 5.05e-03, hls: 64, optim: <optim.MomentumSGD object at 0x7fdf72c19640>\n",
      "val acc: 2.00e-01, lr: 5.00e-01, reg: 5.05e-03, hls: 96, optim: <optim.SGD object at 0x7fdf72c27b20>\n",
      "val acc: 0.00e+00, lr: 5.00e-01, reg: 5.05e-03, hls: 96, optim: <optim.MomentumSGD object at 0x7fdf7298e5b0>\n",
      "val acc: 1.33e-01, lr: 5.00e-01, reg: 5.05e-03, hls: 128, optim: <optim.SGD object at 0x7fdf72a41f40>\n",
      "val acc: 6.67e-02, lr: 5.00e-01, reg: 5.05e-03, hls: 128, optim: <optim.MomentumSGD object at 0x7fdf72a41bb0>\n",
      "val acc: 1.33e-01, lr: 5.00e-01, reg: 5.05e-03, hls: 64, optim: <optim.SGD object at 0x7fdf72a41a00>\n",
      "val acc: 1.33e-01, lr: 5.00e-01, reg: 5.05e-03, hls: 64, optim: <optim.MomentumSGD object at 0x7fdf72a41a30>\n",
      "val acc: 1.33e-01, lr: 5.00e-01, reg: 5.05e-03, hls: 96, optim: <optim.SGD object at 0x7fdf72c19760>\n",
      "val acc: 0.00e+00, lr: 5.00e-01, reg: 5.05e-03, hls: 96, optim: <optim.MomentumSGD object at 0x7fdf7298ebb0>\n",
      "val acc: 1.33e-01, lr: 5.00e-01, reg: 5.05e-03, hls: 128, optim: <optim.SGD object at 0x7fdf72c272e0>\n",
      "val acc: 0.00e+00, lr: 5.00e-01, reg: 5.05e-03, hls: 128, optim: <optim.MomentumSGD object at 0x7fdf72a41a30>\n",
      "val acc: 0.00e+00, lr: 5.00e-01, reg: 1.00e-02, hls: 64, optim: <optim.SGD object at 0x7fdf72c27b20>\n",
      "val acc: 1.33e-01, lr: 5.00e-01, reg: 1.00e-02, hls: 64, optim: <optim.MomentumSGD object at 0x7fdf72c19640>\n",
      "val acc: 4.00e-01, lr: 5.00e-01, reg: 1.00e-02, hls: 96, optim: <optim.SGD object at 0x7fdfacd8bb20>\n",
      "val acc: 1.33e-01, lr: 5.00e-01, reg: 1.00e-02, hls: 96, optim: <optim.MomentumSGD object at 0x7fdf6ab4dbb0>\n",
      "val acc: 0.00e+00, lr: 5.00e-01, reg: 1.00e-02, hls: 128, optim: <optim.SGD object at 0x7fdf72c27640>\n",
      "val acc: 1.33e-01, lr: 5.00e-01, reg: 1.00e-02, hls: 128, optim: <optim.MomentumSGD object at 0x7fdf728812b0>\n",
      "val acc: 1.33e-01, lr: 5.00e-01, reg: 1.00e-02, hls: 64, optim: <optim.SGD object at 0x7fdf6ebe6190>\n",
      "val acc: 2.00e-01, lr: 5.00e-01, reg: 1.00e-02, hls: 64, optim: <optim.MomentumSGD object at 0x7fdf7298e5b0>\n",
      "val acc: 6.67e-02, lr: 5.00e-01, reg: 1.00e-02, hls: 96, optim: <optim.SGD object at 0x7fdf6ab4dbb0>\n",
      "val acc: 0.00e+00, lr: 5.00e-01, reg: 1.00e-02, hls: 96, optim: <optim.MomentumSGD object at 0x7fdf72c19640>\n",
      "val acc: 0.00e+00, lr: 5.00e-01, reg: 1.00e-02, hls: 128, optim: <optim.SGD object at 0x7fdf72881040>\n",
      "val acc: 6.67e-02, lr: 5.00e-01, reg: 1.00e-02, hls: 128, optim: <optim.MomentumSGD object at 0x7fdf72c19640>\n",
      "val acc: 6.67e-02, lr: 5.00e-01, reg: 1.00e-02, hls: 64, optim: <optim.SGD object at 0x7fdf72a41a00>\n",
      "val acc: 2.67e-01, lr: 5.00e-01, reg: 1.00e-02, hls: 64, optim: <optim.MomentumSGD object at 0x7fdf7185c250>\n",
      "val acc: 2.00e-01, lr: 5.00e-01, reg: 1.00e-02, hls: 96, optim: <optim.SGD object at 0x7fdf72a41670>\n",
      "val acc: 0.00e+00, lr: 5.00e-01, reg: 1.00e-02, hls: 96, optim: <optim.MomentumSGD object at 0x7fdf72c19640>\n",
      "val acc: 1.33e-01, lr: 5.00e-01, reg: 1.00e-02, hls: 128, optim: <optim.SGD object at 0x7fdf6ab4dbb0>\n",
      "val acc: 1.33e-01, lr: 5.00e-01, reg: 1.00e-02, hls: 128, optim: <optim.MomentumSGD object at 0x7fdf72a41670>\n",
      "val acc: 1.33e-01, lr: 7.00e-01, reg: 1.00e-04, hls: 64, optim: <optim.SGD object at 0x7fdf72a41a00>\n",
      "val acc: 6.67e-02, lr: 7.00e-01, reg: 1.00e-04, hls: 64, optim: <optim.MomentumSGD object at 0x7fdf72a41f40>\n",
      "val acc: 2.00e-01, lr: 7.00e-01, reg: 1.00e-04, hls: 96, optim: <optim.SGD object at 0x7fdf72a41a00>\n",
      "val acc: 6.67e-02, lr: 7.00e-01, reg: 1.00e-04, hls: 96, optim: <optim.MomentumSGD object at 0x7fdf72a41670>\n",
      "val acc: 1.33e-01, lr: 7.00e-01, reg: 1.00e-04, hls: 128, optim: <optim.SGD object at 0x7fdf72a41bb0>\n",
      "val acc: 6.67e-02, lr: 7.00e-01, reg: 1.00e-04, hls: 128, optim: <optim.MomentumSGD object at 0x7fdf7298e5b0>\n",
      "val acc: 2.00e-01, lr: 7.00e-01, reg: 1.00e-04, hls: 64, optim: <optim.SGD object at 0x7fdf72a41f40>\n",
      "val acc: 1.33e-01, lr: 7.00e-01, reg: 1.00e-04, hls: 64, optim: <optim.MomentumSGD object at 0x7fdf72a41670>\n",
      "val acc: 1.33e-01, lr: 7.00e-01, reg: 1.00e-04, hls: 96, optim: <optim.SGD object at 0x7fdf72a41f40>\n",
      "val acc: 6.67e-02, lr: 7.00e-01, reg: 1.00e-04, hls: 96, optim: <optim.MomentumSGD object at 0x7fdf72a41670>\n",
      "val acc: 1.33e-01, lr: 7.00e-01, reg: 1.00e-04, hls: 128, optim: <optim.SGD object at 0x7fdf7298e5b0>\n",
      "val acc: 2.00e-01, lr: 7.00e-01, reg: 1.00e-04, hls: 128, optim: <optim.MomentumSGD object at 0x7fdf72a41f40>\n",
      "val acc: 2.00e-01, lr: 7.00e-01, reg: 1.00e-04, hls: 64, optim: <optim.SGD object at 0x7fdf72a41670>\n",
      "val acc: 0.00e+00, lr: 7.00e-01, reg: 1.00e-04, hls: 64, optim: <optim.MomentumSGD object at 0x7fdf7298e5b0>\n",
      "val acc: 2.00e-01, lr: 7.00e-01, reg: 1.00e-04, hls: 96, optim: <optim.SGD object at 0x7fdf72881a00>\n",
      "val acc: 6.67e-02, lr: 7.00e-01, reg: 1.00e-04, hls: 96, optim: <optim.MomentumSGD object at 0x7fdf72a41f40>\n",
      "val acc: 1.33e-01, lr: 7.00e-01, reg: 1.00e-04, hls: 128, optim: <optim.SGD object at 0x7fdf72a41a00>\n",
      "val acc: 6.67e-02, lr: 7.00e-01, reg: 1.00e-04, hls: 128, optim: <optim.MomentumSGD object at 0x7fdf72a41670>\n",
      "val acc: 2.00e-01, lr: 7.00e-01, reg: 5.05e-03, hls: 64, optim: <optim.SGD object at 0x7fdf6ebe6190>\n",
      "val acc: 6.67e-02, lr: 7.00e-01, reg: 5.05e-03, hls: 64, optim: <optim.MomentumSGD object at 0x7fdf6ab4dbb0>\n",
      "val acc: 6.67e-02, lr: 7.00e-01, reg: 5.05e-03, hls: 96, optim: <optim.SGD object at 0x7fdf72881f70>\n",
      "val acc: 2.67e-01, lr: 7.00e-01, reg: 5.05e-03, hls: 96, optim: <optim.MomentumSGD object at 0x7fdfacd8bb20>\n",
      "val acc: 6.67e-02, lr: 7.00e-01, reg: 5.05e-03, hls: 128, optim: <optim.SGD object at 0x7fdf7298e5b0>\n",
      "val acc: 6.67e-02, lr: 7.00e-01, reg: 5.05e-03, hls: 128, optim: <optim.MomentumSGD object at 0x7fdfacd8bb20>\n",
      "val acc: 6.67e-02, lr: 7.00e-01, reg: 5.05e-03, hls: 64, optim: <optim.SGD object at 0x7fdf72a41670>\n",
      "val acc: 0.00e+00, lr: 7.00e-01, reg: 5.05e-03, hls: 64, optim: <optim.MomentumSGD object at 0x7fdf72c19760>\n",
      "val acc: 1.33e-01, lr: 7.00e-01, reg: 5.05e-03, hls: 96, optim: <optim.SGD object at 0x7fdf72a41670>\n",
      "val acc: 1.33e-01, lr: 7.00e-01, reg: 5.05e-03, hls: 96, optim: <optim.MomentumSGD object at 0x7fdf72c19760>\n",
      "val acc: 2.67e-01, lr: 7.00e-01, reg: 5.05e-03, hls: 128, optim: <optim.SGD object at 0x7fdf72c19640>\n",
      "val acc: 1.33e-01, lr: 7.00e-01, reg: 5.05e-03, hls: 128, optim: <optim.MomentumSGD object at 0x7fdf6ebe6190>\n",
      "val acc: 2.00e-01, lr: 7.00e-01, reg: 5.05e-03, hls: 64, optim: <optim.SGD object at 0x7fdf72881370>\n",
      "val acc: 1.33e-01, lr: 7.00e-01, reg: 5.05e-03, hls: 64, optim: <optim.MomentumSGD object at 0x7fdf6ebe6190>\n",
      "val acc: 1.33e-01, lr: 7.00e-01, reg: 5.05e-03, hls: 96, optim: <optim.SGD object at 0x7fdf72a41f40>\n",
      "val acc: 2.00e-01, lr: 7.00e-01, reg: 5.05e-03, hls: 96, optim: <optim.MomentumSGD object at 0x7fdf72c19760>\n",
      "val acc: 6.67e-02, lr: 7.00e-01, reg: 5.05e-03, hls: 128, optim: <optim.SGD object at 0x7fdfacd8bb20>\n",
      "val acc: 1.33e-01, lr: 7.00e-01, reg: 5.05e-03, hls: 128, optim: <optim.MomentumSGD object at 0x7fdf7185c250>\n",
      "val acc: 0.00e+00, lr: 7.00e-01, reg: 1.00e-02, hls: 64, optim: <optim.SGD object at 0x7fdf72881a00>\n",
      "val acc: 2.00e-01, lr: 7.00e-01, reg: 1.00e-02, hls: 64, optim: <optim.MomentumSGD object at 0x7fdf72a41bb0>\n",
      "val acc: 6.67e-02, lr: 7.00e-01, reg: 1.00e-02, hls: 96, optim: <optim.SGD object at 0x7fdf7185c250>\n",
      "val acc: 1.33e-01, lr: 7.00e-01, reg: 1.00e-02, hls: 96, optim: <optim.MomentumSGD object at 0x7fdf72c19640>\n",
      "val acc: 2.67e-01, lr: 7.00e-01, reg: 1.00e-02, hls: 128, optim: <optim.SGD object at 0x7fdf72881f70>\n",
      "val acc: 0.00e+00, lr: 7.00e-01, reg: 1.00e-02, hls: 128, optim: <optim.MomentumSGD object at 0x7fdf72a41f40>\n",
      "val acc: 6.67e-02, lr: 7.00e-01, reg: 1.00e-02, hls: 64, optim: <optim.SGD object at 0x7fdf6ab4dbb0>\n",
      "val acc: 1.33e-01, lr: 7.00e-01, reg: 1.00e-02, hls: 64, optim: <optim.MomentumSGD object at 0x7fdf72c19760>\n",
      "val acc: 6.67e-02, lr: 7.00e-01, reg: 1.00e-02, hls: 96, optim: <optim.SGD object at 0x7fdf6ab4dbb0>\n",
      "val acc: 1.33e-01, lr: 7.00e-01, reg: 1.00e-02, hls: 96, optim: <optim.MomentumSGD object at 0x7fdf6ebe6190>\n",
      "val acc: 6.67e-02, lr: 7.00e-01, reg: 1.00e-02, hls: 128, optim: <optim.SGD object at 0x7fdf72a41a00>\n",
      "val acc: 6.67e-02, lr: 7.00e-01, reg: 1.00e-02, hls: 128, optim: <optim.MomentumSGD object at 0x7fdf72a41670>\n",
      "val acc: 2.00e-01, lr: 7.00e-01, reg: 1.00e-02, hls: 64, optim: <optim.SGD object at 0x7fdf72a41a00>\n",
      "val acc: 1.33e-01, lr: 7.00e-01, reg: 1.00e-02, hls: 64, optim: <optim.MomentumSGD object at 0x7fdf6ab4dbb0>\n",
      "val acc: 2.67e-01, lr: 7.00e-01, reg: 1.00e-02, hls: 96, optim: <optim.SGD object at 0x7fdf72a41a00>\n",
      "val acc: 6.67e-02, lr: 7.00e-01, reg: 1.00e-02, hls: 96, optim: <optim.MomentumSGD object at 0x7fdf72c19640>\n",
      "val acc: 2.00e-01, lr: 7.00e-01, reg: 1.00e-02, hls: 128, optim: <optim.SGD object at 0x7fdf72a41a00>\n",
      "val acc: 6.67e-02, lr: 7.00e-01, reg: 1.00e-02, hls: 128, optim: <optim.MomentumSGD object at 0x7fdf72a41700>\n",
      "val acc: 6.67e-02, lr: 9.00e-01, reg: 1.00e-04, hls: 64, optim: <optim.SGD object at 0x7fdf72a41a00>\n",
      "val acc: 6.67e-02, lr: 9.00e-01, reg: 1.00e-04, hls: 64, optim: <optim.MomentumSGD object at 0x7fdf72a41700>\n",
      "val acc: 6.67e-02, lr: 9.00e-01, reg: 1.00e-04, hls: 96, optim: <optim.SGD object at 0x7fdf7185c250>\n",
      "val acc: 6.67e-02, lr: 9.00e-01, reg: 1.00e-04, hls: 96, optim: <optim.MomentumSGD object at 0x7fdf72a41a00>\n",
      "val acc: 0.00e+00, lr: 9.00e-01, reg: 1.00e-04, hls: 128, optim: <optim.SGD object at 0x7fdf72881040>\n",
      "val acc: 2.00e-01, lr: 9.00e-01, reg: 1.00e-04, hls: 128, optim: <optim.MomentumSGD object at 0x7fdf72a41bb0>\n",
      "val acc: 6.67e-02, lr: 9.00e-01, reg: 1.00e-04, hls: 64, optim: <optim.SGD object at 0x7fdf728815b0>\n",
      "val acc: 1.33e-01, lr: 9.00e-01, reg: 1.00e-04, hls: 64, optim: <optim.MomentumSGD object at 0x7fdf6ebe6190>\n",
      "val acc: 6.67e-02, lr: 9.00e-01, reg: 1.00e-04, hls: 96, optim: <optim.SGD object at 0x7fdf728812b0>\n",
      "val acc: 2.00e-01, lr: 9.00e-01, reg: 1.00e-04, hls: 96, optim: <optim.MomentumSGD object at 0x7fdf72a41700>\n",
      "val acc: 1.33e-01, lr: 9.00e-01, reg: 1.00e-04, hls: 128, optim: <optim.SGD object at 0x7fdf7185c250>\n",
      "val acc: 6.67e-02, lr: 9.00e-01, reg: 1.00e-04, hls: 128, optim: <optim.MomentumSGD object at 0x7fdf72c19af0>\n",
      "val acc: 2.67e-01, lr: 9.00e-01, reg: 1.00e-04, hls: 64, optim: <optim.SGD object at 0x7fdf72881370>\n",
      "val acc: 0.00e+00, lr: 9.00e-01, reg: 1.00e-04, hls: 64, optim: <optim.MomentumSGD object at 0x7fdf72a41670>\n",
      "val acc: 1.33e-01, lr: 9.00e-01, reg: 1.00e-04, hls: 96, optim: <optim.SGD object at 0x7fdf72881040>\n",
      "val acc: 1.33e-01, lr: 9.00e-01, reg: 1.00e-04, hls: 96, optim: <optim.MomentumSGD object at 0x7fdfacd8bb20>\n",
      "val acc: 1.33e-01, lr: 9.00e-01, reg: 1.00e-04, hls: 128, optim: <optim.SGD object at 0x7fdf72881370>\n",
      "val acc: 2.00e-01, lr: 9.00e-01, reg: 1.00e-04, hls: 128, optim: <optim.MomentumSGD object at 0x7fdfacd8bb20>\n",
      "val acc: 6.67e-02, lr: 9.00e-01, reg: 5.05e-03, hls: 64, optim: <optim.SGD object at 0x7fdf72a41670>\n",
      "val acc: 6.67e-02, lr: 9.00e-01, reg: 5.05e-03, hls: 64, optim: <optim.MomentumSGD object at 0x7fdf72a41bb0>\n",
      "val acc: 1.33e-01, lr: 9.00e-01, reg: 5.05e-03, hls: 96, optim: <optim.SGD object at 0x7fdf72a41700>\n",
      "val acc: 1.33e-01, lr: 9.00e-01, reg: 5.05e-03, hls: 96, optim: <optim.MomentumSGD object at 0x7fdf72c19760>\n",
      "val acc: 6.67e-02, lr: 9.00e-01, reg: 5.05e-03, hls: 128, optim: <optim.SGD object at 0x7fdf6ebe6190>\n",
      "val acc: 2.00e-01, lr: 9.00e-01, reg: 5.05e-03, hls: 128, optim: <optim.MomentumSGD object at 0x7fdf72a41bb0>\n",
      "val acc: 2.00e-01, lr: 9.00e-01, reg: 5.05e-03, hls: 64, optim: <optim.SGD object at 0x7fdf7185c250>\n",
      "val acc: 2.00e-01, lr: 9.00e-01, reg: 5.05e-03, hls: 64, optim: <optim.MomentumSGD object at 0x7fdf6ebe6190>\n",
      "val acc: 1.33e-01, lr: 9.00e-01, reg: 5.05e-03, hls: 96, optim: <optim.SGD object at 0x7fdf72c19640>\n",
      "val acc: 2.00e-01, lr: 9.00e-01, reg: 5.05e-03, hls: 96, optim: <optim.MomentumSGD object at 0x7fdf72a41bb0>\n",
      "val acc: 2.00e-01, lr: 9.00e-01, reg: 5.05e-03, hls: 128, optim: <optim.SGD object at 0x7fdf72881040>\n",
      "val acc: 2.67e-01, lr: 9.00e-01, reg: 5.05e-03, hls: 128, optim: <optim.MomentumSGD object at 0x7fdf6ebe6190>\n",
      "val acc: 0.00e+00, lr: 9.00e-01, reg: 5.05e-03, hls: 64, optim: <optim.SGD object at 0x7fdf72a41f40>\n",
      "val acc: 2.00e-01, lr: 9.00e-01, reg: 5.05e-03, hls: 64, optim: <optim.MomentumSGD object at 0x7fdf6ebe6190>\n",
      "val acc: 6.67e-02, lr: 9.00e-01, reg: 5.05e-03, hls: 96, optim: <optim.SGD object at 0x7fdf72881a90>\n",
      "val acc: 2.00e-01, lr: 9.00e-01, reg: 5.05e-03, hls: 96, optim: <optim.MomentumSGD object at 0x7fdf72c19760>\n",
      "val acc: 6.67e-02, lr: 9.00e-01, reg: 5.05e-03, hls: 128, optim: <optim.SGD object at 0x7fdf72c19640>\n",
      "val acc: 2.00e-01, lr: 9.00e-01, reg: 5.05e-03, hls: 128, optim: <optim.MomentumSGD object at 0x7fdf72a41f40>\n",
      "val acc: 1.33e-01, lr: 9.00e-01, reg: 1.00e-02, hls: 64, optim: <optim.SGD object at 0x7fdf72c19640>\n",
      "val acc: 1.33e-01, lr: 9.00e-01, reg: 1.00e-02, hls: 64, optim: <optim.MomentumSGD object at 0x7fdf72a41700>\n",
      "val acc: 6.67e-02, lr: 9.00e-01, reg: 1.00e-02, hls: 96, optim: <optim.SGD object at 0x7fdfacd8bb20>\n",
      "val acc: 1.33e-01, lr: 9.00e-01, reg: 1.00e-02, hls: 96, optim: <optim.MomentumSGD object at 0x7fdf72c19640>\n",
      "val acc: 6.67e-02, lr: 9.00e-01, reg: 1.00e-02, hls: 128, optim: <optim.SGD object at 0x7fdf72881a60>\n",
      "val acc: 2.00e-01, lr: 9.00e-01, reg: 1.00e-02, hls: 128, optim: <optim.MomentumSGD object at 0x7fdf6ebe6190>\n",
      "val acc: 2.00e-01, lr: 9.00e-01, reg: 1.00e-02, hls: 64, optim: <optim.SGD object at 0x7fdf728817c0>\n",
      "val acc: 1.33e-01, lr: 9.00e-01, reg: 1.00e-02, hls: 64, optim: <optim.MomentumSGD object at 0x7fdf72c19760>\n",
      "val acc: 1.33e-01, lr: 9.00e-01, reg: 1.00e-02, hls: 96, optim: <optim.SGD object at 0x7fdf7185c250>\n",
      "val acc: 6.67e-02, lr: 9.00e-01, reg: 1.00e-02, hls: 96, optim: <optim.MomentumSGD object at 0x7fdf6ab4dbb0>\n",
      "val acc: 2.67e-01, lr: 9.00e-01, reg: 1.00e-02, hls: 128, optim: <optim.SGD object at 0x7fdf72881370>\n",
      "val acc: 6.67e-02, lr: 9.00e-01, reg: 1.00e-02, hls: 128, optim: <optim.MomentumSGD object at 0x7fdf6ab4dbb0>\n",
      "val acc: 1.33e-01, lr: 9.00e-01, reg: 1.00e-02, hls: 64, optim: <optim.SGD object at 0x7fdf6ebe6190>\n",
      "val acc: 1.33e-01, lr: 9.00e-01, reg: 1.00e-02, hls: 64, optim: <optim.MomentumSGD object at 0x7fdf72a41670>\n",
      "val acc: 2.00e-01, lr: 9.00e-01, reg: 1.00e-02, hls: 96, optim: <optim.SGD object at 0x7fdf72a41f40>\n",
      "val acc: 3.33e-01, lr: 9.00e-01, reg: 1.00e-02, hls: 96, optim: <optim.MomentumSGD object at 0x7fdf72c19640>\n",
      "val acc: 6.67e-02, lr: 9.00e-01, reg: 1.00e-02, hls: 128, optim: <optim.SGD object at 0x7fdf72a41f40>\n",
      "val acc: 6.67e-02, lr: 9.00e-01, reg: 1.00e-02, hls: 128, optim: <optim.MomentumSGD object at 0x7fdfacd8bb20>\n",
      "best validation accuracy achieved: 0.400000\n"
     ]
    }
   ],
   "source": [
    "# Let's train the best one-hidden-layer network we can\n",
    "\n",
    "learning_rates = np.linspace(1e-1, 9e-1, 5)\n",
    "reg_strength = np.linspace(1e-4, 1e-2, 3)\n",
    "learning_rate_decay = np.logspace(-0.5, 0, 3)\n",
    "hidden_layer_size = range(64, 128 + 1, 32)\n",
    "optims = [SGD, MomentumSGD]\n",
    "num_epochs = 200\n",
    "batch_size = 64\n",
    "\n",
    "best_classifier = None\n",
    "best_val_accuracy = None\n",
    "\n",
    "loss_history = []\n",
    "train_history = []\n",
    "val_history = []\n",
    "\n",
    "\n",
    "# Don't hesitate to add new values to the arrays above, perform experiments, use any tricks you want\n",
    "# You should expect to get to at least 40% of valudation accuracy\n",
    "# Save loss/train/history of the best classifier to the variables above\n",
    "\n",
    "for lr, reg, lr_d, hls, optim in product(learning_rates, reg_strength, learning_rate_decay, hidden_layer_size, optims):\n",
    "    optim = optim()\n",
    "    model = TwoLayerNet(n_input = train_X.shape[1],\n",
    "                        n_output = 10,\n",
    "                        hidden_layer_size = hls,\n",
    "                        reg = reg)\n",
    "    dataset = Dataset(train_X[:data_size],\n",
    "                      train_y[:data_size],\n",
    "                      val_X[:data_size],\n",
    "                      val_y[:data_size])\n",
    "    trainer = Trainer(model, dataset, optim, learning_rate=lr, num_epochs=20, batch_size=5, verbose=False)\n",
    "    l_history, t_history, v_history = trainer.fit()\n",
    "    if best_val_accuracy is None or best_val_accuracy < v_history[-1]:\n",
    "        best_val_accuracy = v_history[-1]\n",
    "        best_classifier = model\n",
    "        loss_history = l_history\n",
    "        val_history = v_history\n",
    "        train_history = t_history\n",
    "    print('val acc: %.2e, lr: %.2e, reg: %.2e, hls: %d, optim: %s'%(v_history[-1], lr, reg, hls, optim))\n",
    "\n",
    "\n",
    "print('best validation accuracy achieved: %f' % best_val_accuracy)"
   ]
  },
  {
   "cell_type": "code",
   "execution_count": 152,
   "outputs": [
    {
     "name": "stdout",
     "output_type": "stream",
     "text": [
      "Loss: 2.249359, Train accuracy: 0.230778, val accuracy: 0.237000\n",
      "Loss: 1.920483, Train accuracy: 0.282556, val accuracy: 0.275000\n",
      "Loss: 1.767418, Train accuracy: 0.395889, val accuracy: 0.400000\n",
      "Loss: 1.611527, Train accuracy: 0.464111, val accuracy: 0.466000\n",
      "Loss: 1.964847, Train accuracy: 0.549333, val accuracy: 0.560000\n",
      "Loss: 1.819748, Train accuracy: 0.533889, val accuracy: 0.530000\n",
      "Loss: 1.861451, Train accuracy: 0.586222, val accuracy: 0.591000\n",
      "Loss: 1.916323, Train accuracy: 0.575556, val accuracy: 0.593000\n",
      "Loss: 1.390807, Train accuracy: 0.583556, val accuracy: 0.595000\n",
      "Loss: 2.110617, Train accuracy: 0.613778, val accuracy: 0.601000\n",
      "Loss: 1.906599, Train accuracy: 0.606111, val accuracy: 0.600000\n",
      "Loss: 1.843450, Train accuracy: 0.599333, val accuracy: 0.601000\n",
      "Loss: 1.845467, Train accuracy: 0.634556, val accuracy: 0.627000\n",
      "Loss: 1.810414, Train accuracy: 0.626889, val accuracy: 0.638000\n",
      "Loss: 2.089466, Train accuracy: 0.652111, val accuracy: 0.636000\n",
      "Loss: 1.672555, Train accuracy: 0.643222, val accuracy: 0.637000\n",
      "Loss: 1.426361, Train accuracy: 0.627889, val accuracy: 0.621000\n",
      "Loss: 1.812690, Train accuracy: 0.640556, val accuracy: 0.613000\n",
      "Loss: 1.662832, Train accuracy: 0.629444, val accuracy: 0.628000\n",
      "Loss: 1.450114, Train accuracy: 0.642333, val accuracy: 0.618000\n"
     ]
    }
   ],
   "source": [
    "model = TwoLayerNet(n_input = train_X.shape[1], n_output = 10, hidden_layer_size = 100, reg = 1e-2)\n",
    "dataset = Dataset(train_X, train_y, val_X, val_y)\n",
    "trainer = Trainer(model, dataset, SGD(), learning_rate=1e-1, learning_rate_decay=0.95)\n",
    "\n",
    "# You should see even better results than before!\n",
    "loss_history, train_history, val_history = trainer.fit()"
   ],
   "metadata": {
    "collapsed": false,
    "pycharm": {
     "name": "#%%\n"
    }
   }
  },
  {
   "cell_type": "code",
   "execution_count": 153,
   "metadata": {
    "pycharm": {
     "name": "#%%\n"
    }
   },
   "outputs": [
    {
     "data": {
      "text/plain": "[<matplotlib.lines.Line2D at 0x7fdf6dfb95e0>]"
     },
     "execution_count": 153,
     "metadata": {},
     "output_type": "execute_result"
    },
    {
     "data": {
      "text/plain": "<Figure size 1080x504 with 2 Axes>",
      "image/png": "[encoded data removed]"
     },
     "metadata": {
      "needs_background": "light"
     },
     "output_type": "display_data"
    }
   ],
   "source": [
    "plt.figure(figsize=(15, 7))\n",
    "plt.subplot(211)\n",
    "plt.title(\"Loss\")\n",
    "plt.plot(loss_history)\n",
    "plt.subplot(212)\n",
    "plt.title(\"Train/validation accuracy\")\n",
    "plt.plot(train_history)\n",
    "plt.plot(val_history)"
   ]
  },
  {
   "cell_type": "code",
   "execution_count": 154,
   "outputs": [],
   "source": [
    "best_classifier = model"
   ],
   "metadata": {
    "collapsed": false,
    "pycharm": {
     "name": "#%%\n"
    }
   }
  },
  {
   "cell_type": "markdown",
   "metadata": {
    "pycharm": {
     "name": "#%% md\n"
    }
   },
   "source": [
    "# Как обычно, посмотрим, как наша лучшая модель работает на тестовых данных"
   ]
  },
  {
   "cell_type": "code",
   "execution_count": 155,
   "outputs": [
    {
     "name": "stdout",
     "output_type": "stream",
     "text": [
      "Neural net test set accuracy: 0.600000\n"
     ]
    }
   ],
   "source": [
    "test_pred = best_classifier.predict(test_X)\n",
    "test_accuracy = multiclass_accuracy(test_pred, test_y)\n",
    "print('Neural net test set accuracy: %f' % (test_accuracy, ))"
   ],
   "metadata": {
    "collapsed": false,
    "pycharm": {
     "name": "#%%\n"
    }
   }
  },
  {
   "cell_type": "code",
   "execution_count": null,
   "outputs": [],
   "source": [],
   "metadata": {
    "collapsed": false,
    "pycharm": {
     "name": "#%%\n"
    }
   }
  }
 ],
 "metadata": {
  "kernelspec": {
   "display_name": "Python 3",
   "language": "python",
   "name": "python3"
  },
  "language_info": {
   "codemirror_mode": {
    "name": "ipython",
    "version": 3
   },
   "file_extension": ".py",
   "mimetype": "text/x-python",
   "name": "python",
   "nbconvert_exporter": "python",
   "pygments_lexer": "ipython3",
   "version": "3.7.0"
  }
 },
 "nbformat": 4,
 "nbformat_minor": 2
}